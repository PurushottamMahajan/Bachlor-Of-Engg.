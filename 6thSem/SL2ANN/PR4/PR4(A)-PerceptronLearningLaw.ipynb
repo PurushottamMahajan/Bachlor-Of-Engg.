{
 "cells": [
  {
   "cell_type": "code",
   "execution_count": 2,
   "id": "a6db31eb-9d8e-4a90-a331-f3be50bdd146",
   "metadata": {},
   "outputs": [],
   "source": [
    "import numpy as np\n",
    "import matplotlib.pyplot as plt"
   ]
  },
  {
   "cell_type": "code",
   "execution_count": 3,
   "id": "6bbc8736-1c51-414c-9eae-eadbb03af6c4",
   "metadata": {},
   "outputs": [],
   "source": [
    "class Perceptron:\n",
    "    def __init__(self, learning_rate=0.01, n_iterations=1000):\n",
    "        self.learning_rate = learning_rate\n",
    "        self.n_iterations = n_iterations\n",
    "        self.weights = None\n",
    "        self.bias = None\n",
    "\n",
    "    def fit(self, X, y):\n",
    "        n_samples, n_features = X.shape\n",
    "        \n",
    "        # Initialize weights and bias\n",
    "        self.weights = np.zeros(n_features)\n",
    "        self.bias = 0\n",
    "        \n",
    "        # Convert labels to {0, 1} format if necessary\n",
    "        y_ = np.where(y <= 0, -1, 1)\n",
    "\n",
    "        for _ in range(self.n_iterations):\n",
    "            for idx, x_i in enumerate(X):\n",
    "                linear_output = np.dot(x_i, self.weights) + self.bias\n",
    "                y_pred = np.sign(linear_output)\n",
    "                print(idx,end='')\n",
    "                \n",
    "                # Update rule\n",
    "                if y_[idx] * y_pred <= 0:\n",
    "                    update = self.learning_rate * y_[idx]\n",
    "                    self.weights += update * x_i\n",
    "                    self.bias += update\n",
    "\n",
    "    def predict(self, X):\n",
    "        linear_output = np.dot(X, self.weights) + self.bias\n",
    "        return np.where(linear_output >= 0, 1, 0)"
   ]
  },
  {
   "cell_type": "code",
   "execution_count": 4,
   "id": "620c6083-455c-4d6f-a5de-c13c4ed0a475",
   "metadata": {},
   "outputs": [
    {
     "name": "stdout",
     "output_type": "stream",
     "text": [
      "0123456789012345678901234567890123456789012345678901234567890123456789012345678901234567890123456789"
     ]
    },
    {
     "data": {
      "image/png": "[encoded data removed]",
      "text/plain": [
       "<Figure size 640x480 with 1 Axes>"
      ]
     },
     "metadata": {},
     "output_type": "display_data"
    }
   ],
   "source": [
    "# Manually create linearly separable data\n",
    "X = np.array([\n",
    "    [2, 3], [1, 1], [2, 1], [3, 3], [2, 2],  # Class 0\n",
    "    [6, 5], [7, 7], [8, 6], [7, 5], [9, 7]   # Class 1\n",
    "])\n",
    "y = np.array([0, 0, 0, 0, 0, 1, 1, 1, 1, 1])\n",
    "\n",
    "# Train perceptron\n",
    "perceptron = Perceptron(learning_rate=0.1, n_iterations=10)\n",
    "perceptron.fit(X, y)\n",
    "\n",
    "# Plotting decision regions\n",
    "def plot_decision_regions(X, y, model):\n",
    "    # Set axis boundaries\n",
    "    x_min, x_max = X[:, 0].min() - 1, X[:, 0].max() + 1\n",
    "    y_min, y_max = X[:, 1].min() - 1, X[:, 1].max() + 1\n",
    "    \n",
    "    # Create meshgrid\n",
    "    xx, yy = np.meshgrid(np.arange(x_min, x_max, 0.01),\n",
    "                         np.arange(y_min, y_max, 0.01))\n",
    "\n",
    "    # Predict on grid points\n",
    "    grid_points = np.c_[xx.ravel(), yy.ravel()]\n",
    "    Z = model.predict(grid_points)\n",
    "    Z = Z.reshape(xx.shape)\n",
    "\n",
    "    # Plot the decision boundary\n",
    "    plt.contourf(xx, yy, Z, alpha=0.3, cmap=plt.cm.hot)\n",
    "    plt.scatter(X[:, 0], X[:, 1], c=y, cmap=plt.cm.coolwarm, edgecolor='k')\n",
    "    plt.title(\"Perceptron Decision Regions\")\n",
    "    plt.xlabel(\"Feature 1\")\n",
    "    plt.ylabel(\"Feature 2\")\n",
    "    plt.show()\n",
    "\n",
    "plot_decision_regions(X, y, perceptron)"
   ]
  },
  {
   "cell_type": "code",
   "execution_count": 5,
   "id": "973fdbc7-c4c0-4ac7-87f5-6e45d63d06a0",
   "metadata": {},
   "outputs": [
    {
     "data": {
      "text/plain": [
       "array([0, 0, 0, 0, 0, 1, 1, 1, 1, 1])"
      ]
     },
     "execution_count": 5,
     "metadata": {},
     "output_type": "execute_result"
    }
   ],
   "source": [
    "y"
   ]
  },
  {
   "cell_type": "code",
   "execution_count": 6,
   "id": "1a579869-aa3e-4134-8529-979d5816553d",
   "metadata": {},
   "outputs": [
    {
     "data": {
      "text/plain": [
       "(10, 2)"
      ]
     },
     "execution_count": 6,
     "metadata": {},
     "output_type": "execute_result"
    }
   ],
   "source": [
    "X.shape"
   ]
  },
  {
   "cell_type": "code",
   "execution_count": 7,
   "id": "9952275c-9c14-48c9-945c-19d6cbf9d72b",
   "metadata": {},
   "outputs": [
    {
     "data": {
      "text/plain": [
       "array([0., 0., 0., 0., 0., 0., 0., 0., 0., 0.])"
      ]
     },
     "execution_count": 7,
     "metadata": {},
     "output_type": "execute_result"
    }
   ],
   "source": [
    "np.zeros(10)"
   ]
  },
  {
   "cell_type": "code",
   "execution_count": 8,
   "id": "4639751a-0c02-454c-a096-ad03cc062244",
   "metadata": {},
   "outputs": [
    {
     "data": {
      "text/plain": [
       "np.int64(-1)"
      ]
     },
     "execution_count": 8,
     "metadata": {},
     "output_type": "execute_result"
    }
   ],
   "source": [
    "a = -1\n",
    "\n",
    "np.sign(a)\n",
    "# np.sign(11)"
   ]
  },
  {
   "cell_type": "code",
   "execution_count": 9,
   "id": "b0e83c4c-39fb-4b97-98fb-a8cf8255b49b",
   "metadata": {},
   "outputs": [
    {
     "data": {
      "text/plain": [
       "np.int64(3)"
      ]
     },
     "execution_count": 9,
     "metadata": {},
     "output_type": "execute_result"
    }
   ],
   "source": [
    "X[0][1]"
   ]
  },
  {
   "cell_type": "code",
   "execution_count": 10,
   "id": "e3bcb9fb-2216-4bf8-9f96-42faa37a08c6",
   "metadata": {},
   "outputs": [
    {
     "data": {
      "text/plain": [
       "(10, 2)"
      ]
     },
     "execution_count": 10,
     "metadata": {},
     "output_type": "execute_result"
    }
   ],
   "source": [
    "X.shape"
   ]
  },
  {
   "cell_type": "code",
   "execution_count": 11,
   "id": "c6e9eaff-d7da-4843-bea2-5f5cf3be7de8",
   "metadata": {},
   "outputs": [],
   "source": [
    "aa = np.random.randn(101,2)"
   ]
  },
  {
   "cell_type": "code",
   "execution_count": 12,
   "id": "de8276db-bd02-43b2-b460-04eeda5c1601",
   "metadata": {},
   "outputs": [
    {
     "data": {
      "text/plain": [
       "array([[ 1.12416966,  2.01941593],\n",
       "       [-0.42009454,  2.42187615],\n",
       "       [-1.03537074,  0.61491972],\n",
       "       [-1.42400506, -0.01137026],\n",
       "       [-1.53344349,  0.08543343],\n",
       "       [-0.83181551,  0.83039045],\n",
       "       [ 2.41617591,  0.96796592],\n",
       "       [-0.87294698, -0.68563585],\n",
       "       [ 0.06272773,  0.35085955],\n",
       "       [ 0.71149144,  0.20217862],\n",
       "       [-1.1310311 ,  1.539248  ],\n",
       "       [-0.3035198 ,  0.78526262],\n",
       "       [ 1.58124438,  0.5727375 ],\n",
       "       [ 0.14605784, -1.00579659],\n",
       "       [-0.95512619, -0.54085867],\n",
       "       [-0.39098129, -0.94482787],\n",
       "       [-1.69831634, -1.32919971],\n",
       "       [ 0.01073524, -0.44475866],\n",
       "       [ 0.04110212,  1.39170137],\n",
       "       [ 0.89346572, -0.08559587],\n",
       "       [ 0.17335651,  0.97335867],\n",
       "       [-1.01508879, -0.59296888],\n",
       "       [-0.27628909,  0.04171293],\n",
       "       [-0.47882954, -0.01108119],\n",
       "       [-1.75120579, -1.13705034],\n",
       "       [ 0.75811493, -1.8029953 ],\n",
       "       [ 0.70973648, -0.99085929],\n",
       "       [-0.71726624, -1.4961509 ],\n",
       "       [-2.09315782, -1.0585201 ],\n",
       "       [ 0.53737121, -0.16020485],\n",
       "       [ 0.11625404,  1.65135163],\n",
       "       [ 0.56594131,  1.94645185],\n",
       "       [ 1.10641383, -0.42850298],\n",
       "       [-1.22562677, -2.54382536],\n",
       "       [-0.23537532, -1.14495866],\n",
       "       [ 1.03473587,  1.57390312],\n",
       "       [ 1.40051383, -0.34247509],\n",
       "       [-0.66978134, -0.60636346],\n",
       "       [ 1.01845588,  1.35049275],\n",
       "       [ 0.50956245, -0.63421056],\n",
       "       [-0.71091605,  0.50520894],\n",
       "       [-0.23978143,  3.366631  ],\n",
       "       [ 0.42350995, -0.20013436],\n",
       "       [ 0.16706407,  0.85825918],\n",
       "       [-0.44090493,  0.46751109],\n",
       "       [ 0.83536897, -1.30135263],\n",
       "       [-0.35164813,  0.31076561],\n",
       "       [-0.52256163,  0.85429328],\n",
       "       [ 0.79608716, -1.91035835],\n",
       "       [ 1.15794933, -0.38620068],\n",
       "       [ 0.24276117, -0.70487226],\n",
       "       [ 0.39092368,  1.22922678],\n",
       "       [ 0.88537876, -1.04685456],\n",
       "       [-0.42037648,  0.320616  ],\n",
       "       [ 1.07295362,  1.51317766],\n",
       "       [-0.79069025, -0.98091672],\n",
       "       [-2.23511295, -3.06151035],\n",
       "       [-1.47542877,  1.67952751],\n",
       "       [-0.71519759,  1.6438909 ],\n",
       "       [ 1.81095929, -0.42366692],\n",
       "       [-1.67094466,  0.04309184],\n",
       "       [-2.20102796,  0.12426057],\n",
       "       [-0.99725405, -0.75804546],\n",
       "       [-2.43259285, -0.58283171],\n",
       "       [-0.83725534,  0.75986325],\n",
       "       [ 0.93657597,  0.79303124],\n",
       "       [ 0.8535937 ,  1.18500904],\n",
       "       [-1.6499209 , -1.09940295],\n",
       "       [-1.33962959,  0.36506739],\n",
       "       [-0.29339318,  0.34604841],\n",
       "       [-0.46528539, -0.7864793 ],\n",
       "       [ 0.91321308, -1.15192775],\n",
       "       [ 0.14797628,  0.31943613],\n",
       "       [ 1.44412937, -1.01208012],\n",
       "       [-1.6590981 , -0.82935132],\n",
       "       [-0.62665979,  0.88350222],\n",
       "       [ 0.17693206, -0.21121038],\n",
       "       [ 0.23501416,  1.37649529],\n",
       "       [-0.96453708, -0.62683178],\n",
       "       [-0.61597911, -1.61522414],\n",
       "       [-0.99499127,  0.33105109],\n",
       "       [-0.0352473 , -0.12701834],\n",
       "       [ 0.59950526, -0.13453247],\n",
       "       [-1.24324319,  0.10039789],\n",
       "       [ 0.95584122,  0.6173769 ],\n",
       "       [-0.75480671, -0.83123033],\n",
       "       [ 0.90789036, -0.07663982],\n",
       "       [-0.66795894, -0.61956767],\n",
       "       [ 0.42192589, -0.40121273],\n",
       "       [-1.04018717, -0.00636583],\n",
       "       [-0.55472708, -0.95875058],\n",
       "       [-0.32512625, -0.29647052],\n",
       "       [-0.35348019,  0.20425187],\n",
       "       [-0.0899213 , -0.52513983],\n",
       "       [-0.17195237,  0.46889199],\n",
       "       [ 0.23066449, -1.25202798],\n",
       "       [ 0.21111728, -1.65111723],\n",
       "       [-0.29018577, -0.12532574],\n",
       "       [ 1.20972325, -0.43174876],\n",
       "       [-1.57594213,  0.75326001],\n",
       "       [ 1.100653  , -0.45328765]])"
      ]
     },
     "execution_count": 12,
     "metadata": {},
     "output_type": "execute_result"
    }
   ],
   "source": [
    "aa"
   ]
  },
  {
   "cell_type": "code",
   "execution_count": 13,
   "id": "a5380ce7-821d-42cd-84a8-e994914d18e6",
   "metadata": {},
   "outputs": [],
   "source": [
    "a = aa[:,0]\n",
    "b = aa[:,1]"
   ]
  },
  {
   "cell_type": "code",
   "execution_count": 14,
   "id": "ffbbf623-1a63-4bee-a758-ce26f7954d91",
   "metadata": {},
   "outputs": [
    {
     "data": {
      "text/plain": [
       "<matplotlib.collections.PathCollection at 0x20dda224620>"
      ]
     },
     "execution_count": 14,
     "metadata": {},
     "output_type": "execute_result"
    },
    {
     "data": {
      "image/png": "[encoded data removed]",
      "text/plain": [
       "<Figure size 640x480 with 1 Axes>"
      ]
     },
     "metadata": {},
     "output_type": "display_data"
    }
   ],
   "source": [
    "import matplotlib.pyplot as plt\n",
    "plt.scatter(a,b)"
   ]
  },
  {
   "cell_type": "code",
   "execution_count": null,
   "id": "1fab7041-cc0b-4804-a4fc-6646f2b3cda6",
   "metadata": {},
   "outputs": [],
   "source": []
  },
  {
   "cell_type": "code",
   "execution_count": null,
   "id": "d2da117d-da72-42b4-91c7-6f16aa329a14",
   "metadata": {},
   "outputs": [],
   "source": []
  },
  {
   "cell_type": "code",
   "execution_count": null,
   "id": "6a0bab77-3b0f-40d5-8d31-07c674cc68b3",
   "metadata": {},
   "outputs": [],
   "source": []
  }
 ],
 "metadata": {
  "kernelspec": {
   "display_name": "Python 3 (ipykernel)",
   "language": "python",
   "name": "python3"
  },
  "language_info": {
   "codemirror_mode": {
    "name": "ipython",
    "version": 3
   },
   "file_extension": ".py",
   "mimetype": "text/x-python",
   "name": "python",
   "nbconvert_exporter": "python",
   "pygments_lexer": "ipython3",
   "version": "3.12.9"
  }
 },
 "nbformat": 4,
 "nbformat_minor": 5
}
