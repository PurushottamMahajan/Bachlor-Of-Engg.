{
 "cells": [
  {
   "cell_type": "code",
   "execution_count": 2,
   "id": "0255b1a0-6354-4ef4-be1f-9e914ed198e2",
   "metadata": {},
   "outputs": [
    {
     "name": "stdout",
     "output_type": "stream",
     "text": [
      "Input X pattern: [ 1 -1  1]\n",
      "Recalled Y pattern: [ 1  1 -1]\n",
      "Input Y pattern: [ 1  1 -1]\n",
      "Recalled X pattern: [ 1 -1  1]\n"
     ]
    }
   ],
   "source": [
    "import numpy as np\n",
    "\n",
    "class BidirectionalAssociativeMemory:\n",
    "    def __init__(self):\n",
    "        self.weight_matrix = None\n",
    "\n",
    "    def train(self, patterns_X, patterns_Y):\n",
    "\n",
    "        n_features_X = patterns_X.shape[1]\n",
    "        n_features_Y = patterns_Y.shape[1]\n",
    "\n",
    "        # Initialize the weight matrix\n",
    "        self.weight_matrix = np.zeros((n_features_X, n_features_Y))\n",
    "\n",
    "        # Hebbian learning rule\n",
    "        for x, y in zip(patterns_X, patterns_Y):\n",
    "            self.weight_matrix += np.outer(x, y)\n",
    "\n",
    "    def recall(self, input_pattern, mode='X_to_Y'):\n",
    "        \"\"\"\n",
    "        Recall the associated pattern.\n",
    "        \"\"\"\n",
    "        if mode == 'X_to_Y':\n",
    "            output_pattern = np.sign(np.dot(input_pattern, self.weight_matrix))\n",
    "        elif mode == 'Y_to_X':\n",
    "            output_pattern = np.sign(np.dot(input_pattern, self.weight_matrix.T))\n",
    "        else:\n",
    "            raise ValueError(\"Invalid mode. Use 'X_to_Y' or 'Y_to_X'.\")\n",
    "\n",
    "        return np.array(output_pattern, dtype=int)\n",
    "\n",
    "# Define training patterns\n",
    "X_patterns = np.array([[1, -1, 1], [-1, 1, -1]])\n",
    "Y_patterns = np.array([[1, 1, -1], [-1, -1, 1]])\n",
    "\n",
    "# Initialize and train the BAM\n",
    "bam = BidirectionalAssociativeMemory()\n",
    "bam.train(X_patterns, Y_patterns)\n",
    "\n",
    "# Test recall from X to Y\n",
    "input_X = np.array([1, -1, 1])\n",
    "output_Y = bam.recall(input_X, mode='X_to_Y')\n",
    "print(\"Input X pattern:\", input_X)\n",
    "print(\"Recalled Y pattern:\", output_Y)\n",
    "\n",
    "# Test recall from Y to X\n",
    "input_Y = np.array([1, 1, -1])\n",
    "output_X = bam.recall(input_Y, mode='Y_to_X')\n",
    "print(\"Input Y pattern:\", input_Y)\n",
    "print(\"Recalled X pattern:\", output_X)"
   ]
  },
  {
   "cell_type": "code",
   "execution_count": null,
   "id": "888f7d19-45ad-4a4e-867d-2777cff92d93",
   "metadata": {},
   "outputs": [],
   "source": []
  }
 ],
 "metadata": {
  "kernelspec": {
   "display_name": "Python 3 (ipykernel)",
   "language": "python",
   "name": "python3"
  },
  "language_info": {
   "codemirror_mode": {
    "name": "ipython",
    "version": 3
   },
   "file_extension": ".py",
   "mimetype": "text/x-python",
   "name": "python",
   "nbconvert_exporter": "python",
   "pygments_lexer": "ipython3",
   "version": "3.12.9"
  }
 },
 "nbformat": 4,
 "nbformat_minor": 5
}
