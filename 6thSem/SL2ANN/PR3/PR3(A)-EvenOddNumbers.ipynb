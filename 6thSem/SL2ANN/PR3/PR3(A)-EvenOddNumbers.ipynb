{
 "cells": [
  {
   "cell_type": "code",
   "execution_count": 1,
   "id": "81110fe1-31f8-4205-90bf-0932eea87741",
   "metadata": {},
   "outputs": [],
   "source": [
    "import numpy as np"
   ]
  },
  {
   "cell_type": "code",
   "execution_count": 4,
   "id": "d5e435b4-2b95-4de6-8716-5b7adb665be5",
   "metadata": {},
   "outputs": [],
   "source": [
    "class Perceptron:\n",
    "    def __init__(self, input_size, learning_rate=0.1, epochs=100):\n",
    "        self.weights = np.zeros(input_size + 1)  # +1 for bias\n",
    "        self.learning_rate = learning_rate\n",
    "        self.epochs = epochs\n",
    "\n",
    "    def activation_function(self, x):\n",
    "        return 1 if x >= 0 else 0\n",
    "\n",
    "    def predict(self, x):\n",
    "        weighted_sum = np.dot(x, self.weights[1:]) + self.weights[0]\n",
    "        return self.activation_function(weighted_sum)\n",
    "\n",
    "    def train(self, X, y):\n",
    "        for epoch in range(self.epochs):\n",
    "            for i in range(len(X)):\n",
    "                prediction = self.predict(X[i])\n",
    "                error = y[i] - prediction\n",
    "                # Update weights and bias\n",
    "                self.weights[1:] += self.learning_rate * error * X[i]\n",
    "                self.weights[0] += self.learning_rate * error"
   ]
  },
  {
   "cell_type": "code",
   "execution_count": null,
   "id": "d9f02089-9016-4037-b8dc-25d66a213011",
   "metadata": {},
   "outputs": [
    {
     "name": "stdout",
     "output_type": "stream",
     "text": [
      "Digit\tASCII\tPrediction (1 = Even, 0 = Odd)\n",
      "0\t48\t1\n",
      "1\t49\t0\n",
      "2\t50\t1\n",
      "3\t51\t0\n",
      "4\t52\t1\n",
      "5\t53\t0\n",
      "6\t54\t1\n",
      "7\t55\t0\n",
      "8\t56\t1\n",
      "9\t57\t0\n"
     ]
    }
   ],
   "source": [
    "ascii_values = np.array([ord(str(i)) for i in range(10)])\n",
    "\n",
    "X = np.array([[int(b) for b in f\"{bin(val)[2:]:0>8}\"] for val in ascii_values])\n",
    "\n",
    "y = np.array([1 if i % 2 == 0 else 0 for i in range(10)])\n",
    "\n",
    "perceptron = Perceptron(input_size=X.shape[1])\n",
    "perceptron.train(X, y)\n",
    "\n",
    "print(\"Digit\\tASCII\\tPrediction (1 = Even, 0 = Odd)\")\n",
    "for i in range(10):\n",
    "    prediction = perceptron.predict(X[i])\n",
    "    print(f\"{i}\\t{ascii_values[i]}\\t{prediction}\")\n",
    "\n",
    "digit = input(\"Enter a digit (0-9) to check if it's even or odd: \")\n",
    "if digit.isdigit() and 0 <= int(digit) <= 9:\n",
    "    ascii_digit = ord(digit)\n",
    "    binary_features = [int(b) for b in f\"{bin(ascii_digit)[2:]:0>8}\"]\n",
    "    prediction = perceptron.predict(binary_features)\n",
    "    print(\"Even\" if prediction == 1 else \"Odd\")\n",
    "else:\n",
    "    print(\"Invalid input. Please enter a digit between 0 and 9.\")"
   ]
  },
  {
   "cell_type": "code",
   "execution_count": 11,
   "id": "9dc77cf1-5987-46b9-8bda-e352af4d8982",
   "metadata": {},
   "outputs": [
    {
     "data": {
      "text/plain": [
       "48"
      ]
     },
     "execution_count": 11,
     "metadata": {},
     "output_type": "execute_result"
    }
   ],
   "source": [
    "ord('0')"
   ]
  },
  {
   "cell_type": "code",
   "execution_count": 27,
   "id": "6ad7bff4-0375-45a8-b10a-76e3e38197dd",
   "metadata": {},
   "outputs": [
    {
     "data": {
      "text/plain": [
       "'110000'"
      ]
     },
     "execution_count": 27,
     "metadata": {},
     "output_type": "execute_result"
    }
   ],
   "source": [
    "bin(48)[2:]"
   ]
  },
  {
   "cell_type": "code",
   "execution_count": null,
   "id": "d9d06980-de5f-466b-a479-7c203d9983d7",
   "metadata": {},
   "outputs": [],
   "source": []
  }
 ],
 "metadata": {
  "kernelspec": {
   "display_name": "Python 3 (ipykernel)",
   "language": "python",
   "name": "python3"
  },
  "language_info": {
   "codemirror_mode": {
    "name": "ipython",
    "version": 3
   },
   "file_extension": ".py",
   "mimetype": "text/x-python",
   "name": "python",
   "nbconvert_exporter": "python",
   "pygments_lexer": "ipython3",
   "version": "3.12.9"
  }
 },
 "nbformat": 4,
 "nbformat_minor": 5
}
