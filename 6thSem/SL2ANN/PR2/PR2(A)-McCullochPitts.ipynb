{
 "cells": [
  {
   "cell_type": "code",
   "execution_count": 1,
   "id": "3264f210-c95b-4224-ace6-f47cd2a4491f",
   "metadata": {},
   "outputs": [
    {
     "name": "stdout",
     "output_type": "stream",
     "text": [
      "ANDNOT Function Results:\n",
      "A B | Output\n",
      "0 0 |   0\n",
      "0 1 |   0\n",
      "1 0 |   1\n",
      "1 1 |   0\n"
     ]
    }
   ],
   "source": [
    "import numpy as np\n",
    "\n",
    "class McCullochPittsNeuron:\n",
    "    def __init__(self, weights, threshold):\n",
    "        self.weights = np.array(weights)\n",
    "        self.threshold = threshold\n",
    "\n",
    "    def activate(self, inputs):\n",
    "        net_input = np.dot(inputs, self.weights)\n",
    "        return 1 if net_input >= self.threshold else 0\n",
    "\n",
    "# ANDNOT function truth table\n",
    "# Input A | Input B | A AND NOT B\n",
    "#    0    |    0    |    0\n",
    "#    0    |    1    |    0\n",
    "#    1    |    0    |    1\n",
    "#    1    |    1    |    0\n",
    "\n",
    "# Define weights and threshold for the ANDNOT neuron\n",
    "weights = [1, -1]  # Weight for A is 1, weight for B is -1\n",
    "threshold = 1      # Threshold to fire the neuron\n",
    "\n",
    "# Initialize the McCulloch-Pitts neuron\n",
    "andnot_neuron = McCullochPittsNeuron(weights, threshold)\n",
    "\n",
    "# Test the neuron with all input combinations\n",
    "inputs = np.array([\n",
    "    [0, 0],\n",
    "    [0, 1],\n",
    "    [1, 0],\n",
    "    [1, 1]\n",
    "])\n",
    "\n",
    "print(\"ANDNOT Function Results:\")\n",
    "print(\"A B | Output\")\n",
    "for input_pair in inputs:\n",
    "    output = andnot_neuron.activate(input_pair)\n",
    "    print(f\"{input_pair[0]} {input_pair[1]} |   {output}\")"
   ]
  },
  {
   "cell_type": "code",
   "execution_count": null,
   "id": "eab32077-7560-4a0d-ab8b-5771d9a4c90b",
   "metadata": {},
   "outputs": [],
   "source": []
  }
 ],
 "metadata": {
  "kernelspec": {
   "display_name": "Python 3 (ipykernel)",
   "language": "python",
   "name": "python3"
  },
  "language_info": {
   "codemirror_mode": {
    "name": "ipython",
    "version": 3
   },
   "file_extension": ".py",
   "mimetype": "text/x-python",
   "name": "python",
   "nbconvert_exporter": "python",
   "pygments_lexer": "ipython3",
   "version": "3.12.7"
  }
 },
 "nbformat": 4,
 "nbformat_minor": 5
}
