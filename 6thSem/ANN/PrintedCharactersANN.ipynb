{
  "nbformat": 4,
  "nbformat_minor": 0,
  "metadata": {
    "colab": {
      "provenance": []
    },
    "kernelspec": {
      "name": "python3",
      "display_name": "Python 3"
    },
    "language_info": {
      "name": "python"
    }
  },
  "cells": [
    {
      "cell_type": "code",
      "execution_count": 1,
      "metadata": {
        "id": "tuio1OmnzxSE"
      },
      "outputs": [],
      "source": [
        "import tensorflow as tf\n",
        "import numpy as np\n",
        "import matplotlib.pyplot as plt\n",
        "from sklearn.preprocessing import LabelBinarizer\n",
        "from tensorflow.keras.models import Sequential\n",
        "from tensorflow.keras.layers import Dense, Flatten, Dropout\n",
        "from tensorflow.keras.optimizers import Adam\n",
        "from tensorflow.keras.utils import to_categorical"
      ]
    },
    {
      "cell_type": "code",
      "source": [
        "from torchvision.datasets import EMNIST\n",
        "import torchvision.transforms as transforms\n",
        "from torch.utils.data import DataLoader"
      ],
      "metadata": {
        "id": "Q8wsKcOBzyAC"
      },
      "execution_count": 2,
      "outputs": []
    },
    {
      "cell_type": "code",
      "source": [
        "transform = transforms.Compose([transforms.ToTensor()])\n",
        "emnist_train = EMNIST(root='./data', split='byclass', train=True, download=True, transform=transform)\n",
        "emnist_test = EMNIST(root='./data', split='byclass', train=False, download=True, transform=transform)"
      ],
      "metadata": {
        "colab": {
          "base_uri": "https://localhost:8080/"
        },
        "id": "apkeevCgz21c",
        "outputId": "9aa903b8-ee33-470b-d742-004d0392dcb7"
      },
      "execution_count": 3,
      "outputs": [
        {
          "output_type": "stream",
          "name": "stderr",
          "text": [
            "100%|██████████| 562M/562M [00:30<00:00, 18.5MB/s]\n"
          ]
        }
      ]
    },
    {
      "cell_type": "code",
      "source": [
        "def convert_dataset(dataset):\n",
        "    images = []\n",
        "    labels = []\n",
        "    for img, label in dataset:\n",
        "        images.append(img.numpy().squeeze())  # Convert to (28, 28)\n",
        "        labels.append(label)\n",
        "    return np.array(images), np.array(labels)\n",
        "\n",
        "X_train, y_train = convert_dataset(emnist_train)\n",
        "X_test, y_test = convert_dataset(emnist_test)\n"
      ],
      "metadata": {
        "id": "wJK_wQ7Dz5gr"
      },
      "execution_count": 4,
      "outputs": []
    },
    {
      "cell_type": "code",
      "source": [
        "X_train = X_train / 255.0\n",
        "X_test = X_test / 255.0\n",
        "\n",
        "# Flatten images to 1D (ANN expects vectors)\n",
        "X_train = X_train.reshape((-1, 784))\n",
        "X_test = X_test.reshape((-1, 784))\n",
        "\n",
        "# One-hot encode the labels\n",
        "y_train = to_categorical(y_train, num_classes=62)\n",
        "y_test = to_categorical(y_test, num_classes=62)"
      ],
      "metadata": {
        "id": "SgbJfwZZz7K5"
      },
      "execution_count": 5,
      "outputs": []
    },
    {
      "cell_type": "code",
      "source": [
        "model = Sequential([\n",
        "    Conv2D(32, (3, 3), activation='relu', input_shape=(28, 28, 1)),\n",
        "    MaxPooling2D(pool_size=(2, 2)),\n",
        "\n",
        "    Conv2D(64, (3, 3), activation='relu'),\n",
        "    MaxPooling2D(pool_size=(2, 2)),\n",
        "\n",
        "    Flatten(),\n",
        "    Dense(512, activation='relu'),\n",
        "    Dropout(0.2),\n",
        "\n",
        "    Dense(256, activation='relu'),\n",
        "    Dropout(0.2),\n",
        "\n",
        "    Dense(62, activation='softmax')  # 62 classes: [0-9, A-Z, a-z]\n",
        "])"
      ],
      "metadata": {
        "colab": {
          "base_uri": "https://localhost:8080/"
        },
        "id": "qTrxgeNDz9Gp",
        "outputId": "92368700-9bcc-4554-809a-c0532946b7dc"
      },
      "execution_count": 6,
      "outputs": [
        {
          "output_type": "stream",
          "name": "stderr",
          "text": [
            "/usr/local/lib/python3.11/dist-packages/keras/src/layers/core/dense.py:87: UserWarning: Do not pass an `input_shape`/`input_dim` argument to a layer. When using Sequential models, prefer using an `Input(shape)` object as the first layer in the model instead.\n",
            "  super().__init__(activity_regularizer=activity_regularizer, **kwargs)\n"
          ]
        }
      ]
    },
    {
      "cell_type": "code",
      "source": [
        "model.compile(optimizer=Adam(), loss='categorical_crossentropy', metrics=['accuracy'])"
      ],
      "metadata": {
        "id": "O1S7A3MBz-6C"
      },
      "execution_count": 7,
      "outputs": []
    },
    {
      "cell_type": "code",
      "source": [
        "model.fit(X_train, y_train, epochs=10, batch_size=128, validation_split=0.1)"
      ],
      "metadata": {
        "colab": {
          "base_uri": "https://localhost:8080/"
        },
        "id": "tORbLn6P0A87",
        "outputId": "b3cc042b-30c8-4a7b-eaf4-a68207065554"
      },
      "execution_count": 8,
      "outputs": [
        {
          "output_type": "stream",
          "name": "stdout",
          "text": [
            "Epoch 1/10\n",
            "\u001b[1m4908/4908\u001b[0m \u001b[32m━━━━━━━━━━━━━━━━━━━━\u001b[0m\u001b[37m\u001b[0m \u001b[1m92s\u001b[0m 18ms/step - accuracy: 0.5111 - loss: 1.8285 - val_accuracy: 0.7618 - val_loss: 0.7764\n",
            "Epoch 2/10\n",
            "\u001b[1m4908/4908\u001b[0m \u001b[32m━━━━━━━━━━━━━━━━━━━━\u001b[0m\u001b[37m\u001b[0m \u001b[1m139s\u001b[0m 18ms/step - accuracy: 0.7559 - loss: 0.7883 - val_accuracy: 0.8025 - val_loss: 0.6108\n",
            "Epoch 3/10\n",
            "\u001b[1m4908/4908\u001b[0m \u001b[32m━━━━━━━━━━━━━━━━━━━━\u001b[0m\u001b[37m\u001b[0m \u001b[1m143s\u001b[0m 18ms/step - accuracy: 0.7880 - loss: 0.6589 - val_accuracy: 0.8179 - val_loss: 0.5472\n",
            "Epoch 4/10\n",
            "\u001b[1m4908/4908\u001b[0m \u001b[32m━━━━━━━━━━━━━━━━━━━━\u001b[0m\u001b[37m\u001b[0m \u001b[1m139s\u001b[0m 17ms/step - accuracy: 0.8024 - loss: 0.5999 - val_accuracy: 0.8259 - val_loss: 0.5124\n",
            "Epoch 5/10\n",
            "\u001b[1m4908/4908\u001b[0m \u001b[32m━━━━━━━━━━━━━━━━━━━━\u001b[0m\u001b[37m\u001b[0m \u001b[1m141s\u001b[0m 17ms/step - accuracy: 0.8117 - loss: 0.5633 - val_accuracy: 0.8324 - val_loss: 0.4885\n",
            "Epoch 6/10\n",
            "\u001b[1m4908/4908\u001b[0m \u001b[32m━━━━━━━━━━━━━━━━━━━━\u001b[0m\u001b[37m\u001b[0m \u001b[1m142s\u001b[0m 17ms/step - accuracy: 0.8187 - loss: 0.5364 - val_accuracy: 0.8379 - val_loss: 0.4704\n",
            "Epoch 7/10\n",
            "\u001b[1m4908/4908\u001b[0m \u001b[32m━━━━━━━━━━━━━━━━━━━━\u001b[0m\u001b[37m\u001b[0m \u001b[1m142s\u001b[0m 17ms/step - accuracy: 0.8232 - loss: 0.5218 - val_accuracy: 0.8397 - val_loss: 0.4592\n",
            "Epoch 8/10\n",
            "\u001b[1m4908/4908\u001b[0m \u001b[32m━━━━━━━━━━━━━━━━━━━━\u001b[0m\u001b[37m\u001b[0m \u001b[1m86s\u001b[0m 18ms/step - accuracy: 0.8263 - loss: 0.5063 - val_accuracy: 0.8410 - val_loss: 0.4535\n",
            "Epoch 9/10\n",
            "\u001b[1m4908/4908\u001b[0m \u001b[32m━━━━━━━━━━━━━━━━━━━━\u001b[0m\u001b[37m\u001b[0m \u001b[1m141s\u001b[0m 17ms/step - accuracy: 0.8307 - loss: 0.4925 - val_accuracy: 0.8451 - val_loss: 0.4422\n",
            "Epoch 10/10\n",
            "\u001b[1m4908/4908\u001b[0m \u001b[32m━━━━━━━━━━━━━━━━━━━━\u001b[0m\u001b[37m\u001b[0m \u001b[1m84s\u001b[0m 17ms/step - accuracy: 0.8310 - loss: 0.4886 - val_accuracy: 0.8458 - val_loss: 0.4359\n"
          ]
        },
        {
          "output_type": "execute_result",
          "data": {
            "text/plain": [
              "<keras.src.callbacks.history.History at 0x7b79414dcc10>"
            ]
          },
          "metadata": {},
          "execution_count": 8
        }
      ]
    },
    {
      "cell_type": "code",
      "source": [
        "loss, accuracy = model.evaluate(X_test, y_test)\n",
        "print(f\"\\nTest Accuracy: {accuracy:.4f}\")"
      ],
      "metadata": {
        "colab": {
          "base_uri": "https://localhost:8080/"
        },
        "id": "esGqy_Ww0LhZ",
        "outputId": "685968dd-5237-4813-fc3d-b1e968aa5c85"
      },
      "execution_count": 9,
      "outputs": [
        {
          "output_type": "stream",
          "name": "stdout",
          "text": [
            "\u001b[1m3636/3636\u001b[0m \u001b[32m━━━━━━━━━━━━━━━━━━━━\u001b[0m\u001b[37m\u001b[0m \u001b[1m14s\u001b[0m 4ms/step - accuracy: 0.8478 - loss: 0.4320\n",
            "\n",
            "Test Accuracy: 0.8470\n"
          ]
        }
      ]
    },
    {
      "cell_type": "code",
      "source": [],
      "metadata": {
        "id": "odr06G5P0NN0"
      },
      "execution_count": null,
      "outputs": []
    }
  ]
}