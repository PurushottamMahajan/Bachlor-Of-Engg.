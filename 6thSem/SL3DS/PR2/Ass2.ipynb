{
 "cells": [
  {
   "cell_type": "markdown",
   "id": "271971a8-9f61-4879-b1a2-a4bb89fbb3c6",
   "metadata": {},
   "source": [
    "# Create academic performance dataset of students"
   ]
  },
  {
   "cell_type": "markdown",
   "id": "105302d9-98f1-47ac-ac97-da84893af266",
   "metadata": {
    "jp-MarkdownHeadingCollapsed": true
   },
   "source": [
    "# Scan all Variables for missing values and inconsistencies.If missing values are present deal with them."
   ]
  },
  {
   "cell_type": "markdown",
   "id": "b6edbf75-318b-4b45-93e1-cb4e5466c75e",
   "metadata": {},
   "source": [
    "#Scan all variables for outliers. If outliers are present, deal with them."
   ]
  },
  {
   "cell_type": "markdown",
   "id": "c3751db0-aa33-4247-9635-b1a61aae67f3",
   "metadata": {},
   "source": [
    "# Apply Data Transformation"
   ]
  },
  {
   "cell_type": "markdown",
   "id": "35f48a41-59ea-4ca9-be71-d5eba601125d",
   "metadata": {},
   "source": [
    "# Apply Data Transformation."
   ]
  },
  {
   "cell_type": "markdown",
   "id": "8cb8c5e8-ca26-4959-853d-11cbdd6e2583",
   "metadata": {},
   "source": [
    "# Reason and Documentation."
   ]
  },
  {
   "cell_type": "code",
   "execution_count": null,
   "id": "322f2d6b-c60f-4437-8c0e-ee9cb5a7e247",
   "metadata": {},
   "outputs": [],
   "source": [
    "import pandas as pd\n",
    "import numpy as np"
   ]
  },
  {
   "cell_type": "code",
   "execution_count": null,
   "id": "b3051507-92b9-4632-aa56-f4e9a4b5752d",
   "metadata": {},
   "outputs": [],
   "source": [
    "df = pd.read_csv(\"dataset.csv\")"
   ]
  },
  {
   "cell_type": "code",
   "execution_count": null,
   "id": "3e5d586a-d9fd-44ce-9fd0-a25a8d786562",
   "metadata": {},
   "outputs": [],
   "source": [
    "df"
   ]
  },
  {
   "cell_type": "code",
   "execution_count": null,
   "id": "adb45da9-b6fa-491b-bc95-30fbf9e2ac25",
   "metadata": {},
   "outputs": [],
   "source": [
    "df.shape"
   ]
  },
  {
   "cell_type": "code",
   "execution_count": null,
   "id": "ca2f8bf8-8629-4a5c-936f-092ca55074c2",
   "metadata": {},
   "outputs": [],
   "source": [
    "df.columns"
   ]
  },
  {
   "cell_type": "code",
   "execution_count": null,
   "id": "dc3ab588-c0d5-4b50-8313-2fbed7451958",
   "metadata": {},
   "outputs": [],
   "source": [
    "df.dtypes"
   ]
  },
  {
   "cell_type": "code",
   "execution_count": null,
   "id": "979d4c5f-6a3f-4af8-88b7-be4990a76fdd",
   "metadata": {},
   "outputs": [],
   "source": [
    "df.describe()"
   ]
  },
  {
   "cell_type": "code",
   "execution_count": null,
   "id": "d47b18cb-2e63-4f34-ad49-d3370768ff54",
   "metadata": {},
   "outputs": [],
   "source": [
    "df.describe(include='all')"
   ]
  },
  {
   "cell_type": "code",
   "execution_count": null,
   "id": "375b914d-0628-4218-8111-3f6e7b2df89e",
   "metadata": {},
   "outputs": [],
   "source": [
    "df.isna().sum()"
   ]
  },
  {
   "cell_type": "code",
   "execution_count": null,
   "id": "8333a4fb-b4a4-4d97-9d5b-de3d5ec17850",
   "metadata": {},
   "outputs": [],
   "source": [
    "df['FE Score'].replace(to_replace=np.NaN,value = 8)"
   ]
  },
  {
   "cell_type": "code",
   "execution_count": null,
   "id": "27c6ba45-5933-46e8-9414-1cad37988db6",
   "metadata": {},
   "outputs": [],
   "source": [
    "df['SE Score']=df['SE Score'].fillna(df['SE Score'].median())"
   ]
  },
  {
   "cell_type": "code",
   "execution_count": null,
   "id": "be1e0567-5d33-47f1-b06e-23a61ca2459a",
   "metadata": {},
   "outputs": [],
   "source": [
    "df.describe(include='all')"
   ]
  },
  {
   "cell_type": "code",
   "execution_count": null,
   "id": "d89fdddb-9e48-4e6b-8ecc-f5754ade9a81",
   "metadata": {},
   "outputs": [],
   "source": [
    "df['FE Score'].dropna(axis=0)"
   ]
  },
  {
   "cell_type": "code",
   "execution_count": null,
   "id": "3b180835-3219-4744-84a7-cf3de72739e7",
   "metadata": {},
   "outputs": [],
   "source": [
    "import seaborn as sns"
   ]
  },
  {
   "cell_type": "code",
   "execution_count": null,
   "id": "fc69a126-1cad-43a1-9475-f0bdcc3eaefb",
   "metadata": {},
   "outputs": [],
   "source": [
    "snb.boxplot(df['FE Score'],color='orange')"
   ]
  },
  {
   "cell_type": "code",
   "execution_count": null,
   "id": "75a28db9-0b67-4ff2-9332-268387b4ef8e",
   "metadata": {},
   "outputs": [],
   "source": [
    "snb.boxplot(df['SE Score'],color='cyan')"
   ]
  },
  {
   "cell_type": "code",
   "execution_count": null,
   "id": "b0a3ffa2-5a56-40df-82eb-8407b583b2fe",
   "metadata": {},
   "outputs": [],
   "source": [
    "print(np.where(df['SE Score']>10))"
   ]
  }
 ],
 "metadata": {
  "kernelspec": {
   "display_name": "Python 3 (ipykernel)",
   "language": "python",
   "name": "python3"
  },
  "language_info": {
   "codemirror_mode": {
    "name": "ipython",
    "version": 3
   },
   "file_extension": ".py",
   "mimetype": "text/x-python",
   "name": "python",
   "nbconvert_exporter": "python",
   "pygments_lexer": "ipython3",
   "version": "3.12.7"
  }
 },
 "nbformat": 4,
 "nbformat_minor": 5
}
