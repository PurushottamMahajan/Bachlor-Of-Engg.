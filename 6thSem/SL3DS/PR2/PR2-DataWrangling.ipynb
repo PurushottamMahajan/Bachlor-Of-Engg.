{
 "cells": [
  {
   "cell_type": "code",
   "execution_count": 25,
   "id": "28e32f14-6336-4d42-b118-0ee5d2623700",
   "metadata": {},
   "outputs": [],
   "source": [
    "import pandas as pd\n",
    "import numpy as np\n",
    "import matplotlib.pyplot as plt"
   ]
  },
  {
   "cell_type": "code",
   "execution_count": 2,
   "id": "c8925414-a449-4362-9756-c716fd58ae5b",
   "metadata": {},
   "outputs": [],
   "source": [
    "df = pd.read_csv('dataset.csv')"
   ]
  },
  {
   "cell_type": "code",
   "execution_count": 4,
   "id": "ae1e01ae-764c-4584-b561-ae2bf915170d",
   "metadata": {},
   "outputs": [
    {
     "data": {
      "text/html": [
       "<div>\n",
       "<style scoped>\n",
       "    .dataframe tbody tr th:only-of-type {\n",
       "        vertical-align: middle;\n",
       "    }\n",
       "\n",
       "    .dataframe tbody tr th {\n",
       "        vertical-align: top;\n",
       "    }\n",
       "\n",
       "    .dataframe thead th {\n",
       "        text-align: right;\n",
       "    }\n",
       "</style>\n",
       "<table border=\"1\" class=\"dataframe\">\n",
       "  <thead>\n",
       "    <tr style=\"text-align: right;\">\n",
       "      <th></th>\n",
       "      <th>Roll_No.</th>\n",
       "      <th>Name</th>\n",
       "      <th>FE Score</th>\n",
       "      <th>SE Score</th>\n",
       "      <th>Placement</th>\n",
       "      <th>Department</th>\n",
       "    </tr>\n",
       "  </thead>\n",
       "  <tbody>\n",
       "    <tr>\n",
       "      <th>0</th>\n",
       "      <td>1</td>\n",
       "      <td>Sukesh</td>\n",
       "      <td>8.0</td>\n",
       "      <td>8.0</td>\n",
       "      <td>No</td>\n",
       "      <td>IT</td>\n",
       "    </tr>\n",
       "    <tr>\n",
       "      <th>1</th>\n",
       "      <td>2</td>\n",
       "      <td>Sukesh</td>\n",
       "      <td>9.0</td>\n",
       "      <td>6.0</td>\n",
       "      <td>No</td>\n",
       "      <td>IT</td>\n",
       "    </tr>\n",
       "    <tr>\n",
       "      <th>2</th>\n",
       "      <td>3</td>\n",
       "      <td>Haresh</td>\n",
       "      <td>7.0</td>\n",
       "      <td>9.0</td>\n",
       "      <td>Yes</td>\n",
       "      <td>CS</td>\n",
       "    </tr>\n",
       "    <tr>\n",
       "      <th>3</th>\n",
       "      <td>4</td>\n",
       "      <td>Sukesh</td>\n",
       "      <td>8.0</td>\n",
       "      <td>7.0</td>\n",
       "      <td>Yes</td>\n",
       "      <td>IT</td>\n",
       "    </tr>\n",
       "    <tr>\n",
       "      <th>4</th>\n",
       "      <td>5</td>\n",
       "      <td>Haresh</td>\n",
       "      <td>10.0</td>\n",
       "      <td>0.0</td>\n",
       "      <td>No</td>\n",
       "      <td>AI&amp;DS</td>\n",
       "    </tr>\n",
       "  </tbody>\n",
       "</table>\n",
       "</div>"
      ],
      "text/plain": [
       "   Roll_No.    Name  FE Score  SE Score Placement Department\n",
       "0         1  Sukesh       8.0       8.0        No         IT\n",
       "1         2  Sukesh       9.0       6.0        No         IT\n",
       "2         3  Haresh       7.0       9.0       Yes         CS\n",
       "3         4  Sukesh       8.0       7.0       Yes         IT\n",
       "4         5  Haresh      10.0       0.0        No      AI&DS"
      ]
     },
     "execution_count": 4,
     "metadata": {},
     "output_type": "execute_result"
    }
   ],
   "source": [
    "df.head()"
   ]
  },
  {
   "cell_type": "code",
   "execution_count": 10,
   "id": "9af43077-4178-4c62-92cf-6d4653486bd6",
   "metadata": {},
   "outputs": [
    {
     "data": {
      "text/plain": [
       "Roll_No.       0\n",
       "Name           0\n",
       "FE Score      10\n",
       "SE Score       9\n",
       "Placement      0\n",
       "Department     0\n",
       "dtype: int64"
      ]
     },
     "execution_count": 10,
     "metadata": {},
     "output_type": "execute_result"
    }
   ],
   "source": [
    "df.isna().sum()"
   ]
  },
  {
   "cell_type": "code",
   "execution_count": 19,
   "id": "f239d8d8-0278-4ea2-8440-d760308872da",
   "metadata": {},
   "outputs": [],
   "source": [
    "df['FE Score'] = df[\"FE Score\"].fillna(df[\"FE Score\"].mean())"
   ]
  },
  {
   "cell_type": "code",
   "execution_count": 13,
   "id": "1b9b0133-89a5-4e05-a89f-6c39b7e4bc99",
   "metadata": {},
   "outputs": [
    {
     "data": {
      "text/plain": [
       "7.842931937172775"
      ]
     },
     "execution_count": 13,
     "metadata": {},
     "output_type": "execute_result"
    }
   ],
   "source": [
    "df['FE Score'].mean()"
   ]
  },
  {
   "cell_type": "code",
   "execution_count": 17,
   "id": "d953b645-7770-40ed-8b19-0c052bdd472c",
   "metadata": {},
   "outputs": [],
   "source": [
    "df['SE Score']=df['SE Score'].fillna(df['SE Score'].median())"
   ]
  },
  {
   "cell_type": "code",
   "execution_count": 20,
   "id": "94768929-9a7e-40e5-b3e2-2d644f1ad1ad",
   "metadata": {},
   "outputs": [
    {
     "data": {
      "text/plain": [
       "Roll_No.      0\n",
       "Name          0\n",
       "FE Score      0\n",
       "SE Score      0\n",
       "Placement     0\n",
       "Department    0\n",
       "dtype: int64"
      ]
     },
     "execution_count": 20,
     "metadata": {},
     "output_type": "execute_result"
    }
   ],
   "source": [
    "df.isna().sum()"
   ]
  },
  {
   "cell_type": "code",
   "execution_count": 26,
   "id": "38c6ee75-1b94-45d8-8570-f3826549a844",
   "metadata": {},
   "outputs": [
    {
     "data": {
      "image/png": "[encoded data removed]",
      "text/plain": [
       "<Figure size 800x400 with 1 Axes>"
      ]
     },
     "metadata": {},
     "output_type": "display_data"
    }
   ],
   "source": [
    "plt.figure(figsize=(8, 4))\n",
    "plt.hist(df['SE Score'].dropna(), bins=15, color='skyblue', edgecolor='black')\n",
    "plt.title(\"Original SE Score Distribution\")\n",
    "plt.xlabel(\"SE Score\")\n",
    "plt.ylabel(\"Frequency\")\n",
    "plt.show()"
   ]
  },
  {
   "cell_type": "code",
   "execution_count": 28,
   "id": "ed3cf743-92dc-4489-832b-a176f02840cb",
   "metadata": {},
   "outputs": [],
   "source": [
    "df['Log_SE_Score'] = df['SE Score'].apply(lambda x: np.log1p(x) if pd.notna(x) else x)"
   ]
  },
  {
   "cell_type": "code",
   "execution_count": 29,
   "id": "d4bdc2a3-a884-4254-bc95-e5e33fee3258",
   "metadata": {},
   "outputs": [
    {
     "data": {
      "image/png": "[encoded data removed]",
      "text/plain": [
       "<Figure size 800x400 with 1 Axes>"
      ]
     },
     "metadata": {},
     "output_type": "display_data"
    }
   ],
   "source": [
    "plt.figure(figsize=(8, 4))\n",
    "plt.hist(df['Log_SE_Score'].dropna(), bins=15, color='salmon', edgecolor='black')\n",
    "plt.title(\"Log Transformed SE Score Distribution\")\n",
    "plt.xlabel(\"Log(SE Score)\")\n",
    "plt.ylabel(\"Frequency\")\n",
    "plt.show()"
   ]
  },
  {
   "cell_type": "code",
   "execution_count": null,
   "id": "bc81afad-e4ec-4dd2-b45d-04203c9c2e76",
   "metadata": {},
   "outputs": [],
   "source": []
  }
 ],
 "metadata": {
  "kernelspec": {
   "display_name": "Python 3 (ipykernel)",
   "language": "python",
   "name": "python3"
  },
  "language_info": {
   "codemirror_mode": {
    "name": "ipython",
    "version": 3
   },
   "file_extension": ".py",
   "mimetype": "text/x-python",
   "name": "python",
   "nbconvert_exporter": "python",
   "pygments_lexer": "ipython3",
   "version": "3.12.7"
  }
 },
 "nbformat": 4,
 "nbformat_minor": 5
}
